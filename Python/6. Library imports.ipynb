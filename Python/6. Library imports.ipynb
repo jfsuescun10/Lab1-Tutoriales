{
 "cells": [
  {
   "cell_type": "markdown",
   "metadata": {},
   "source": [
    "# Importar librerías\n",
    "\n",
    "Python posee un gran variedad de librerías para todo tipo de usos, desde la creación y apertura de archivos en cualquier sistema operativo hasta la extracción de datos en archivos de Word o Excel, pasando por el manejo y análisis de enormes cantidades de información provenientes de la bolsa de valores o de experimentos astronómicos, climáticos o biológicos.\n",
    "\n",
    "La ventaja de Python sobre otros lenguajes de programación es que posee un avanzado mecanismo para importar librerías o comandos específicos de alguna de ellas, lo que hace muy sencillo usarlas para beneficio del programador. A continuación veremos las distintas formas en que puede hacerse esto."
   ]
  },
  {
   "cell_type": "markdown",
   "metadata": {},
   "source": [
    "## Usando `import`\n",
    "\n",
    "La primera opción, y la más sencilla, es usar el comando `import` seguido del nombre la librería, así:\n",
    "\n",
    "```python\n",
    "import math\n",
    "```\n",
    "\n",
    "Cuando querramos usar algún comando de la librería, debemos llamarla por su nombre seguido de un punto (`.`) y la tecla <kbd>Tab</kbd>. Inmediatamente deberá aparecer una lista con las funciones que hacen parte de la misma. así:"
   ]
  },
  {
   "cell_type": "code",
   "execution_count": null,
   "metadata": {
    "collapsed": true
   },
   "outputs": [],
   "source": [
    "import math"
   ]
  },
  {
   "cell_type": "code",
   "execution_count": null,
   "metadata": {
    "collapsed": true
   },
   "outputs": [],
   "source": [
    "math."
   ]
  },
  {
   "cell_type": "markdown",
   "metadata": {},
   "source": [
    "Como `math` es la librería de funciones matemáticas básicas de Python, podemos utilizarla para calcular el $\\textrm{sin}(\\pi/2)$, por ejemplo:"
   ]
  },
  {
   "cell_type": "code",
   "execution_count": null,
   "metadata": {
    "collapsed": true
   },
   "outputs": [],
   "source": [
    "math.sin(math.pi/2)"
   ]
  },
  {
   "cell_type": "markdown",
   "metadata": {},
   "source": [
    "## Usando `from`\n",
    "\n",
    "Otra opción es sólo llamar un comando específico de una librería determinada. Para ello usamos la siguiente sintaxis:\n",
    "\n",
    "```python\n",
    "from math import sin\n",
    "```\n",
    "\n",
    "En este caso sólo se carga el comando `sin`, sin cargar el resto de la librería. Esto puede ser muy ventajoso cuando la librería es grande y sólo queremos utilizar una pequeña funcionalidad de la misma. Otra ventaja es que no es necesario usar el nombre de la librería antes del comando."
   ]
  },
  {
   "cell_type": "code",
   "execution_count": null,
   "metadata": {
    "collapsed": true
   },
   "outputs": [],
   "source": [
    "from math import sin"
   ]
  },
  {
   "cell_type": "code",
   "execution_count": null,
   "metadata": {
    "collapsed": true
   },
   "outputs": [],
   "source": [
    "sin(3.1)"
   ]
  },
  {
   "cell_type": "markdown",
   "metadata": {},
   "source": [
    "Sin embargo, si queremos utilizar `pi`, veremos un error en la consola, porque no ha sido cargado:"
   ]
  },
  {
   "cell_type": "code",
   "execution_count": null,
   "metadata": {
    "collapsed": true
   },
   "outputs": [],
   "source": [
    "sin(pi/2)"
   ]
  },
  {
   "cell_type": "markdown",
   "metadata": {},
   "source": [
    "Para no tener que escribir una línea `from math import ...` por cada símbolo que se desee importar, se puede usar la misma sintaxis de arriba con cada símbolo separado por una coma, así:"
   ]
  },
  {
   "cell_type": "code",
   "execution_count": null,
   "metadata": {
    "collapsed": true
   },
   "outputs": [],
   "source": [
    "from math import sin, pi"
   ]
  },
  {
   "cell_type": "markdown",
   "metadata": {},
   "source": [
    "Al cargar `pi` de `math` de esta forma, ya no veremos el error anterior:"
   ]
  },
  {
   "cell_type": "code",
   "execution_count": null,
   "metadata": {
    "collapsed": true
   },
   "outputs": [],
   "source": [
    "sin(pi/2)"
   ]
  },
  {
   "cell_type": "markdown",
   "metadata": {},
   "source": [
    "## Usando un nombre corto\n",
    "\n",
    "Una opción para no tener que llamar una librería por su nombre completo, es renombrarla al momento de importarla. Esto es una práctica bastante común, pues permite utilizar nombres cortos para las librerías, lo que hace mucho más fácil llamarlas. Para ello se usa la siguiente sintaxis:\n",
    "\n",
    "```python\n",
    "import math as mt\n",
    "```\n",
    "\n",
    "De esta forma, en lugar de `math` sólo usamos `mt`, así:"
   ]
  },
  {
   "cell_type": "code",
   "execution_count": null,
   "metadata": {
    "collapsed": true
   },
   "outputs": [],
   "source": [
    "import math as mt"
   ]
  },
  {
   "cell_type": "code",
   "execution_count": null,
   "metadata": {
    "collapsed": true
   },
   "outputs": [],
   "source": [
    "mt.sin(mt.pi/2)"
   ]
  },
  {
   "cell_type": "markdown",
   "metadata": {},
   "source": [
    "## Importando todos los comandos\n",
    "\n",
    "La última opción consiste en llamar todos los comandos de una librería sin que estén precedidos por su nombre. Para ello se utiliza la sintaxis:\n",
    "\n",
    "```python\n",
    "from math import *\n",
    "```\n",
    "\n",
    "**Advertencia**:\n",
    "\n",
    "Esta opción no es muy recomendable ya que los comandos de varias librerías pueden tener el mismo nombre, lo que puede resultar en serias confusiones.\n",
    "\n",
    "Un ejemplo de este caso es el siguiente:"
   ]
  },
  {
   "cell_type": "code",
   "execution_count": null,
   "metadata": {
    "collapsed": true
   },
   "outputs": [],
   "source": [
    "from math import *"
   ]
  },
  {
   "cell_type": "code",
   "execution_count": null,
   "metadata": {
    "collapsed": true
   },
   "outputs": [],
   "source": [
    "cos(pi/2)"
   ]
  },
  {
   "cell_type": "markdown",
   "metadata": {},
   "source": [
    "## Problemas"
   ]
  },
  {
   "cell_type": "markdown",
   "metadata": {},
   "source": [
    "### Problema 1\n",
    "\n",
    "Importar la librería `numpy` con el nombre `np`. Después utilizar la función `arange` de la misma para generar una lista de números entre `0` y `1`, en pasos de `0.01`.\n",
    "\n",
    "**Nota**:\n",
    "\n",
    "Para mirar la ayuda de `arange`, se debe evaluar una celda nueva con la siguiente sintaxis:\n",
    "\n",
    "```python\n",
    "np.arange?\n",
    "```"
   ]
  },
  {
   "cell_type": "code",
   "execution_count": 3,
   "metadata": {},
   "outputs": [],
   "source": [
    "# Mirar la ayuda de np.arange aquí\n",
    "import numpy as np\n"
   ]
  },
  {
   "cell_type": "code",
   "execution_count": 7,
   "metadata": {},
   "outputs": [
    {
     "data": {
      "text/plain": [
       "array([0.  , 0.01, 0.02, 0.03, 0.04, 0.05, 0.06, 0.07, 0.08, 0.09, 0.1 ,\n",
       "       0.11, 0.12, 0.13, 0.14, 0.15, 0.16, 0.17, 0.18, 0.19, 0.2 , 0.21,\n",
       "       0.22, 0.23, 0.24, 0.25, 0.26, 0.27, 0.28, 0.29, 0.3 , 0.31, 0.32,\n",
       "       0.33, 0.34, 0.35, 0.36, 0.37, 0.38, 0.39, 0.4 , 0.41, 0.42, 0.43,\n",
       "       0.44, 0.45, 0.46, 0.47, 0.48, 0.49, 0.5 , 0.51, 0.52, 0.53, 0.54,\n",
       "       0.55, 0.56, 0.57, 0.58, 0.59, 0.6 , 0.61, 0.62, 0.63, 0.64, 0.65,\n",
       "       0.66, 0.67, 0.68, 0.69, 0.7 , 0.71, 0.72, 0.73, 0.74, 0.75, 0.76,\n",
       "       0.77, 0.78, 0.79, 0.8 , 0.81, 0.82, 0.83, 0.84, 0.85, 0.86, 0.87,\n",
       "       0.88, 0.89, 0.9 , 0.91, 0.92, 0.93, 0.94, 0.95, 0.96, 0.97, 0.98,\n",
       "       0.99])"
      ]
     },
     "execution_count": 7,
     "metadata": {},
     "output_type": "execute_result"
    }
   ],
   "source": [
    "# Escribir la solución aquí\n",
    "np.arange(0,1,0.01)"
   ]
  },
  {
   "cell_type": "markdown",
   "metadata": {},
   "source": [
    "### Problema 2\n",
    "\n",
    "De la misma librería anterior, importar únicamente la función `linspace` y la constante `pi`. Utilizar estas dos expresiones para generar una lista de 100 números entre $0$ y $2 \\pi$."
   ]
  },
  {
   "cell_type": "code",
   "execution_count": null,
   "metadata": {
    "collapsed": true
   },
   "outputs": [],
   "source": [
    "# Mirar la ayuda de linspace aquí\n"
   ]
  },
  {
   "cell_type": "code",
   "execution_count": 8,
   "metadata": {},
   "outputs": [],
   "source": [
    "# Escribir la solución aquí\n",
    "import numpy as np\n",
    "\n",
    "a = np.linspace(0,np.pi*2,100)\n"
   ]
  },
  {
   "cell_type": "markdown",
   "metadata": {},
   "source": [
    "### Problema 3\n",
    "\n",
    "Usar la función `sin` de `numpy` para calcular el seno de los números generados por `linspace` en el ejercicio anterior.\n",
    "\n",
    "**Notas**:\n",
    "\n",
    "1. **No** es necesario usar un ciclo `for`. Mirar detenidamente los ejemplos de `numpy.sin` en el visor de ayuda.\n",
    "\n",
    "2. ¿Puede hacerse lo mismo con `math.sin`?"
   ]
  },
  {
   "cell_type": "code",
   "execution_count": 9,
   "metadata": {},
   "outputs": [
    {
     "ename": "TypeError",
     "evalue": "only size-1 arrays can be converted to Python scalars",
     "output_type": "error",
     "traceback": [
      "\u001b[0;31m---------------------------------------------------------------------------\u001b[0m",
      "\u001b[0;31mTypeError\u001b[0m                                 Traceback (most recent call last)",
      "\u001b[0;32m<ipython-input-9-041330dd014f>\u001b[0m in \u001b[0;36m<module>\u001b[0;34m\u001b[0m\n\u001b[1;32m      5\u001b[0m \u001b[0ma\u001b[0m \u001b[0;34m=\u001b[0m \u001b[0mnp\u001b[0m\u001b[0;34m.\u001b[0m\u001b[0mlinspace\u001b[0m\u001b[0;34m(\u001b[0m\u001b[0;36m0\u001b[0m\u001b[0;34m,\u001b[0m\u001b[0mnp\u001b[0m\u001b[0;34m.\u001b[0m\u001b[0mpi\u001b[0m\u001b[0;34m*\u001b[0m\u001b[0;36m2\u001b[0m\u001b[0;34m,\u001b[0m\u001b[0;36m100\u001b[0m\u001b[0;34m)\u001b[0m\u001b[0;34m\u001b[0m\u001b[0;34m\u001b[0m\u001b[0m\n\u001b[1;32m      6\u001b[0m \u001b[0mb\u001b[0m \u001b[0;34m=\u001b[0m \u001b[0mnp\u001b[0m\u001b[0;34m.\u001b[0m\u001b[0msin\u001b[0m\u001b[0;34m(\u001b[0m\u001b[0ma\u001b[0m\u001b[0;34m)\u001b[0m\u001b[0;34m\u001b[0m\u001b[0;34m\u001b[0m\u001b[0m\n\u001b[0;32m----> 7\u001b[0;31m \u001b[0mc\u001b[0m \u001b[0;34m=\u001b[0m \u001b[0mmath\u001b[0m\u001b[0;34m.\u001b[0m\u001b[0msin\u001b[0m\u001b[0;34m(\u001b[0m\u001b[0ma\u001b[0m\u001b[0;34m)\u001b[0m\u001b[0;34m\u001b[0m\u001b[0;34m\u001b[0m\u001b[0m\n\u001b[0m",
      "\u001b[0;31mTypeError\u001b[0m: only size-1 arrays can be converted to Python scalars"
     ]
    }
   ],
   "source": [
    "# Escribir la solución aquí\n",
    "import numpy as np\n",
    "import math\n",
    "\n",
    "a = np.linspace(0,np.pi*2,100)\n",
    "b = np.sin(a)\n",
    "c = math.sin(a)\n"
   ]
  },
  {
   "cell_type": "markdown",
   "metadata": {},
   "source": [
    "### Problema 4\n",
    "\n",
    "Generar una lista de 50 puntos aleatorios en 2D, usando la función `rand` de la librería `numpy.random`"
   ]
  },
  {
   "cell_type": "code",
   "execution_count": 10,
   "metadata": {},
   "outputs": [
    {
     "data": {
      "text/plain": [
       "array([[0.78698402, 0.67989037],\n",
       "       [0.76922929, 0.47027295],\n",
       "       [0.21307832, 0.80632435],\n",
       "       [0.16525788, 0.2486386 ],\n",
       "       [0.94416451, 0.83005099],\n",
       "       [0.37142176, 0.04035722],\n",
       "       [0.30548393, 0.58124842],\n",
       "       [0.66744225, 0.85326744],\n",
       "       [0.26386863, 0.70359591],\n",
       "       [0.69361654, 0.56154866],\n",
       "       [0.57084514, 0.8335963 ],\n",
       "       [0.14848559, 0.71946852],\n",
       "       [0.40131921, 0.24308049],\n",
       "       [0.20954075, 0.44721277],\n",
       "       [0.96185487, 0.0630515 ],\n",
       "       [0.72073109, 0.23187277],\n",
       "       [0.09649444, 0.30559989],\n",
       "       [0.12918748, 0.57894586],\n",
       "       [0.01697604, 0.98059709],\n",
       "       [0.01313053, 0.98743012],\n",
       "       [0.05388173, 0.51961597],\n",
       "       [0.65341135, 0.15071506],\n",
       "       [0.33570392, 0.23483363],\n",
       "       [0.56341322, 0.59363374],\n",
       "       [0.1716139 , 0.5203295 ],\n",
       "       [0.52806474, 0.68819425],\n",
       "       [0.24341725, 0.02859018],\n",
       "       [0.18019953, 0.67083629],\n",
       "       [0.4570912 , 0.61652474],\n",
       "       [0.03779632, 0.82765072],\n",
       "       [0.10864476, 0.72989344],\n",
       "       [0.94111517, 0.53670352],\n",
       "       [0.1072818 , 0.63517639],\n",
       "       [0.94762833, 0.14128482],\n",
       "       [0.91306355, 0.12563495],\n",
       "       [0.66527705, 0.28774987],\n",
       "       [0.76776229, 0.39799399],\n",
       "       [0.67045482, 0.30316063],\n",
       "       [0.25962463, 0.41222004],\n",
       "       [0.01513784, 0.20601329],\n",
       "       [0.16776549, 0.75448312],\n",
       "       [0.0831671 , 0.31709619],\n",
       "       [0.50071604, 0.98872805],\n",
       "       [0.36135   , 0.60199855],\n",
       "       [0.86723997, 0.16567763],\n",
       "       [0.91478015, 0.47299258],\n",
       "       [0.57003135, 0.14119076],\n",
       "       [0.59999818, 0.60860359],\n",
       "       [0.62186596, 0.80708686],\n",
       "       [0.3500684 , 0.93979881]])"
      ]
     },
     "execution_count": 10,
     "metadata": {},
     "output_type": "execute_result"
    }
   ],
   "source": [
    "# Escribir la solución aquí\n",
    "from numpy import random\n",
    "random.rand(50,2)"
   ]
  },
  {
   "cell_type": "code",
   "execution_count": null,
   "metadata": {},
   "outputs": [],
   "source": []
  }
 ],
 "metadata": {
  "kernelspec": {
   "display_name": "Python 3",
   "language": "python",
   "name": "python3"
  },
  "language_info": {
   "codemirror_mode": {
    "name": "ipython",
    "version": 3
   },
   "file_extension": ".py",
   "mimetype": "text/x-python",
   "name": "python",
   "nbconvert_exporter": "python",
   "pygments_lexer": "ipython3",
   "version": "3.7.4"
  }
 },
 "nbformat": 4,
 "nbformat_minor": 1
}
